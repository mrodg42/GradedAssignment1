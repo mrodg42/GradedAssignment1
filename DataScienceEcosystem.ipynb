{
 "cells": [
  {
   "cell_type": "markdown",
   "id": "0d2fc657-266e-4fb0-acce-a698a161a710",
   "metadata": {},
   "source": [
    "# Data Science Tools and Ecosystem"
   ]
  },
  {
   "cell_type": "markdown",
   "id": "3575a336-de4d-4282-989c-ccf33c8b4790",
   "metadata": {},
   "source": [
    "In this notebook, Data Science Tools and Ecosystem are summarized."
   ]
  },
  {
   "cell_type": "markdown",
   "id": "96127f10-4bde-4fea-91fd-fdce1506220f",
   "metadata": {
    "tags": []
   },
   "source": [
    "**Objectives**\n",
    "- List popular languages for Data Science\n",
    "- List commonly used libraries\n",
    "- Provide examples using arithmetic expressions "
   ]
  },
  {
   "cell_type": "markdown",
   "id": "b0bb2139-69d3-4182-b339-1ebfd2ea910d",
   "metadata": {},
   "source": [
    "Some of the popular languages that Data Scientists use are:\n",
    "1. Python\n",
    "2. SQL\n",
    "3. R\n",
    "4. Julia"
   ]
  },
  {
   "cell_type": "markdown",
   "id": "b4e638e5-3a3f-479b-8cd6-8ae8a8ea348c",
   "metadata": {
    "tags": []
   },
   "source": [
    "Some of the commonly used libraries used by Data Scientists include:\n",
    "- Numpy\n",
    "- Matplotlib\n",
    "- Pandas\n",
    "- SciPy"
   ]
  },
  {
   "cell_type": "markdown",
   "id": "b6b8a01f-bb9b-41a7-8de3-d160017bff16",
   "metadata": {},
   "source": [
    "|Data science tools|\n",
    "|-------|\n",
    "|Hadoop|\n",
    "|Spark|\n",
    "|TensorFlow|"
   ]
  },
  {
   "cell_type": "markdown",
   "id": "07730463-0572-47ac-8ede-f54fb14cb3ce",
   "metadata": {},
   "source": [
    "### Below are a few examples of evaluating arithmetic expressions in Python"
   ]
  },
  {
   "cell_type": "code",
   "execution_count": 16,
   "id": "2b786275-4b9e-4f02-a20d-df6bb303fd97",
   "metadata": {
    "tags": []
   },
   "outputs": [
    {
     "data": {
      "text/plain": [
       "17"
      ]
     },
     "execution_count": 16,
     "metadata": {},
     "output_type": "execute_result"
    }
   ],
   "source": [
    "#This a simple arithmetic expression to mutiply then add integers\n",
    "(3*4)+5"
   ]
  },
  {
   "cell_type": "code",
   "execution_count": 20,
   "id": "4d0b8b7b-5029-4171-b7d3-40ad5c2dbfc5",
   "metadata": {
    "tags": []
   },
   "outputs": [
    {
     "data": {
      "text/plain": [
       "3.3333333333333335"
      ]
     },
     "execution_count": 20,
     "metadata": {},
     "output_type": "execute_result"
    }
   ],
   "source": [
    "# This will convert 200 minutes to hours by diving by 60\n",
    "200/60"
   ]
  },
  {
   "cell_type": "markdown",
   "id": "ff048505-d339-4c50-81bd-4db55cdb0d92",
   "metadata": {},
   "source": [
    "## Author\n",
    "Martin Rodriguez"
   ]
  },
  {
   "cell_type": "code",
   "execution_count": null,
   "id": "d87a6d09-81fc-404e-b713-8654ace173f4",
   "metadata": {},
   "outputs": [],
   "source": []
  }
 ],
 "metadata": {
  "kernelspec": {
   "display_name": "Python 3 (ipykernel)",
   "language": "python",
   "name": "python3"
  },
  "language_info": {
   "codemirror_mode": {
    "name": "ipython",
    "version": 3
   },
   "file_extension": ".py",
   "mimetype": "text/x-python",
   "name": "python",
   "nbconvert_exporter": "python",
   "pygments_lexer": "ipython3",
   "version": "3.11.7"
  }
 },
 "nbformat": 4,
 "nbformat_minor": 5
}
